{
  "nbformat": 4,
  "nbformat_minor": 0,
  "metadata": {
    "colab": {
      "provenance": []
    },
    "kernelspec": {
      "name": "python3",
      "display_name": "Python 3"
    },
    "language_info": {
      "name": "python"
    }
  },
  "cells": [
    {
      "cell_type": "code",
      "execution_count": 12,
      "metadata": {
        "id": "HrAkR6Xqqfgc"
      },
      "outputs": [],
      "source": [
        "import pandas as pd\n",
        "import numpy as np\n",
        "\n",
        "from sklearn.feature_extraction.text import TfidfVectorizer\n",
        "from sklearn.pipeline import Pipeline\n",
        "from sklearn.svm import SVC"
      ]
    },
    {
      "cell_type": "code",
      "source": [
        "data = pd.read_csv('/content/drive/MyDrive/NLPCourse/NLPFinal/ProcessedPR.csv')"
      ],
      "metadata": {
        "id": "IHg2ZHxWq1sS"
      },
      "execution_count": 58,
      "outputs": []
    },
    {
      "cell_type": "code",
      "source": [
        "data.head()"
      ],
      "metadata": {
        "colab": {
          "base_uri": "https://localhost:8080/",
          "height": 310
        },
        "id": "D_ASlUZrUzBp",
        "outputId": "ae973e07-54a3-4301-8fc7-d13fe17ed15b"
      },
      "execution_count": 63,
      "outputs": [
        {
          "output_type": "execute_result",
          "data": {
            "text/plain": [
              "   Unnamed: 0    Date           Member Party State / District  \\\n",
              "0           0  May 12  Ayanna Pressley     D          Mass.-7   \n",
              "1           1  May 10     Adrian Smith     R           Neb.-3   \n",
              "2           2   May 9  Robert E. Latta     R           Ohio-5   \n",
              "3           3  May 10  Morgan Griffith     R            Va.-9   \n",
              "4           4   May 3      Steve Cohen     D          Tenn.-9   \n",
              "\n",
              "                                               Title  \\\n",
              "0  WATCH: In Powerful Mothers Day Speech, Pressle...   \n",
              "1      Pushing Back on Unworkable Executive Mandates   \n",
              "2  Latta's Op-Ed: EPAs new power plant rule is ne...   \n",
              "3  Congressman Griffiths Weekly E-Newsletter 5.10.24   \n",
              "4  Celebrating the Grand Opening of the Orange Mo...   \n",
              "\n",
              "                                       Press Release  \\\n",
              "0  May 12, 2024 “Mr. Speaker, mothers across Amer...   \n",
              "1  502 Cannon HOB, Washington, DC 20515Email Me(2...   \n",
              "2  Congressman Bob Latta (R-OH5) penned an op-ed ...   \n",
              "3  It has been roughly four and a half years sinc...   \n",
              "4  May 3, 2024  Dear Friend,  Last Friday, I atte...   \n",
              "\n",
              "                                           sentences  \\\n",
              "0  ['may mr', 'speaker mother across america want...   \n",
              "1  ['cannon hob washington dc president obama fam...   \n",
              "2  ['congressman bob latta penned washington exam...   \n",
              "3  ['roughly four half year since start pandemic ...   \n",
              "4  ['may dear friend last friday attended grand o...   \n",
              "\n",
              "                                           docTokens  \n",
              "0  may mr speaker mother across america want hall...  \n",
              "1  cannon hob washington dc president obama famou...  \n",
              "2  congressman bob latta penned washington examin...  \n",
              "3  roughly four half year since start pandemic de...  \n",
              "4  may dear friend last friday attended grand ope...  "
            ],
            "text/html": [
              "\n",
              "  <div id=\"df-a1483a52-bae6-40bb-b70c-a5cd55e71ca4\" class=\"colab-df-container\">\n",
              "    <div>\n",
              "<style scoped>\n",
              "    .dataframe tbody tr th:only-of-type {\n",
              "        vertical-align: middle;\n",
              "    }\n",
              "\n",
              "    .dataframe tbody tr th {\n",
              "        vertical-align: top;\n",
              "    }\n",
              "\n",
              "    .dataframe thead th {\n",
              "        text-align: right;\n",
              "    }\n",
              "</style>\n",
              "<table border=\"1\" class=\"dataframe\">\n",
              "  <thead>\n",
              "    <tr style=\"text-align: right;\">\n",
              "      <th></th>\n",
              "      <th>Unnamed: 0</th>\n",
              "      <th>Date</th>\n",
              "      <th>Member</th>\n",
              "      <th>Party</th>\n",
              "      <th>State / District</th>\n",
              "      <th>Title</th>\n",
              "      <th>Press Release</th>\n",
              "      <th>sentences</th>\n",
              "      <th>docTokens</th>\n",
              "    </tr>\n",
              "  </thead>\n",
              "  <tbody>\n",
              "    <tr>\n",
              "      <th>0</th>\n",
              "      <td>0</td>\n",
              "      <td>May 12</td>\n",
              "      <td>Ayanna Pressley</td>\n",
              "      <td>D</td>\n",
              "      <td>Mass.-7</td>\n",
              "      <td>WATCH: In Powerful Mothers Day Speech, Pressle...</td>\n",
              "      <td>May 12, 2024 “Mr. Speaker, mothers across Amer...</td>\n",
              "      <td>['may mr', 'speaker mother across america want...</td>\n",
              "      <td>may mr speaker mother across america want hall...</td>\n",
              "    </tr>\n",
              "    <tr>\n",
              "      <th>1</th>\n",
              "      <td>1</td>\n",
              "      <td>May 10</td>\n",
              "      <td>Adrian Smith</td>\n",
              "      <td>R</td>\n",
              "      <td>Neb.-3</td>\n",
              "      <td>Pushing Back on Unworkable Executive Mandates</td>\n",
              "      <td>502 Cannon HOB, Washington, DC 20515Email Me(2...</td>\n",
              "      <td>['cannon hob washington dc president obama fam...</td>\n",
              "      <td>cannon hob washington dc president obama famou...</td>\n",
              "    </tr>\n",
              "    <tr>\n",
              "      <th>2</th>\n",
              "      <td>2</td>\n",
              "      <td>May 9</td>\n",
              "      <td>Robert E. Latta</td>\n",
              "      <td>R</td>\n",
              "      <td>Ohio-5</td>\n",
              "      <td>Latta's Op-Ed: EPAs new power plant rule is ne...</td>\n",
              "      <td>Congressman Bob Latta (R-OH5) penned an op-ed ...</td>\n",
              "      <td>['congressman bob latta penned washington exam...</td>\n",
              "      <td>congressman bob latta penned washington examin...</td>\n",
              "    </tr>\n",
              "    <tr>\n",
              "      <th>3</th>\n",
              "      <td>3</td>\n",
              "      <td>May 10</td>\n",
              "      <td>Morgan Griffith</td>\n",
              "      <td>R</td>\n",
              "      <td>Va.-9</td>\n",
              "      <td>Congressman Griffiths Weekly E-Newsletter 5.10.24</td>\n",
              "      <td>It has been roughly four and a half years sinc...</td>\n",
              "      <td>['roughly four half year since start pandemic ...</td>\n",
              "      <td>roughly four half year since start pandemic de...</td>\n",
              "    </tr>\n",
              "    <tr>\n",
              "      <th>4</th>\n",
              "      <td>4</td>\n",
              "      <td>May 3</td>\n",
              "      <td>Steve Cohen</td>\n",
              "      <td>D</td>\n",
              "      <td>Tenn.-9</td>\n",
              "      <td>Celebrating the Grand Opening of the Orange Mo...</td>\n",
              "      <td>May 3, 2024  Dear Friend,  Last Friday, I atte...</td>\n",
              "      <td>['may dear friend last friday attended grand o...</td>\n",
              "      <td>may dear friend last friday attended grand ope...</td>\n",
              "    </tr>\n",
              "  </tbody>\n",
              "</table>\n",
              "</div>\n",
              "    <div class=\"colab-df-buttons\">\n",
              "\n",
              "  <div class=\"colab-df-container\">\n",
              "    <button class=\"colab-df-convert\" onclick=\"convertToInteractive('df-a1483a52-bae6-40bb-b70c-a5cd55e71ca4')\"\n",
              "            title=\"Convert this dataframe to an interactive table.\"\n",
              "            style=\"display:none;\">\n",
              "\n",
              "  <svg xmlns=\"http://www.w3.org/2000/svg\" height=\"24px\" viewBox=\"0 -960 960 960\">\n",
              "    <path d=\"M120-120v-720h720v720H120Zm60-500h600v-160H180v160Zm220 220h160v-160H400v160Zm0 220h160v-160H400v160ZM180-400h160v-160H180v160Zm440 0h160v-160H620v160ZM180-180h160v-160H180v160Zm440 0h160v-160H620v160Z\"/>\n",
              "  </svg>\n",
              "    </button>\n",
              "\n",
              "  <style>\n",
              "    .colab-df-container {\n",
              "      display:flex;\n",
              "      gap: 12px;\n",
              "    }\n",
              "\n",
              "    .colab-df-convert {\n",
              "      background-color: #E8F0FE;\n",
              "      border: none;\n",
              "      border-radius: 50%;\n",
              "      cursor: pointer;\n",
              "      display: none;\n",
              "      fill: #1967D2;\n",
              "      height: 32px;\n",
              "      padding: 0 0 0 0;\n",
              "      width: 32px;\n",
              "    }\n",
              "\n",
              "    .colab-df-convert:hover {\n",
              "      background-color: #E2EBFA;\n",
              "      box-shadow: 0px 1px 2px rgba(60, 64, 67, 0.3), 0px 1px 3px 1px rgba(60, 64, 67, 0.15);\n",
              "      fill: #174EA6;\n",
              "    }\n",
              "\n",
              "    .colab-df-buttons div {\n",
              "      margin-bottom: 4px;\n",
              "    }\n",
              "\n",
              "    [theme=dark] .colab-df-convert {\n",
              "      background-color: #3B4455;\n",
              "      fill: #D2E3FC;\n",
              "    }\n",
              "\n",
              "    [theme=dark] .colab-df-convert:hover {\n",
              "      background-color: #434B5C;\n",
              "      box-shadow: 0px 1px 3px 1px rgba(0, 0, 0, 0.15);\n",
              "      filter: drop-shadow(0px 1px 2px rgba(0, 0, 0, 0.3));\n",
              "      fill: #FFFFFF;\n",
              "    }\n",
              "  </style>\n",
              "\n",
              "    <script>\n",
              "      const buttonEl =\n",
              "        document.querySelector('#df-a1483a52-bae6-40bb-b70c-a5cd55e71ca4 button.colab-df-convert');\n",
              "      buttonEl.style.display =\n",
              "        google.colab.kernel.accessAllowed ? 'block' : 'none';\n",
              "\n",
              "      async function convertToInteractive(key) {\n",
              "        const element = document.querySelector('#df-a1483a52-bae6-40bb-b70c-a5cd55e71ca4');\n",
              "        const dataTable =\n",
              "          await google.colab.kernel.invokeFunction('convertToInteractive',\n",
              "                                                    [key], {});\n",
              "        if (!dataTable) return;\n",
              "\n",
              "        const docLinkHtml = 'Like what you see? Visit the ' +\n",
              "          '<a target=\"_blank\" href=https://colab.research.google.com/notebooks/data_table.ipynb>data table notebook</a>'\n",
              "          + ' to learn more about interactive tables.';\n",
              "        element.innerHTML = '';\n",
              "        dataTable['output_type'] = 'display_data';\n",
              "        await google.colab.output.renderOutput(dataTable, element);\n",
              "        const docLink = document.createElement('div');\n",
              "        docLink.innerHTML = docLinkHtml;\n",
              "        element.appendChild(docLink);\n",
              "      }\n",
              "    </script>\n",
              "  </div>\n",
              "\n",
              "\n",
              "<div id=\"df-d5314508-e20c-4210-918b-4c7f9e762d90\">\n",
              "  <button class=\"colab-df-quickchart\" onclick=\"quickchart('df-d5314508-e20c-4210-918b-4c7f9e762d90')\"\n",
              "            title=\"Suggest charts\"\n",
              "            style=\"display:none;\">\n",
              "\n",
              "<svg xmlns=\"http://www.w3.org/2000/svg\" height=\"24px\"viewBox=\"0 0 24 24\"\n",
              "     width=\"24px\">\n",
              "    <g>\n",
              "        <path d=\"M19 3H5c-1.1 0-2 .9-2 2v14c0 1.1.9 2 2 2h14c1.1 0 2-.9 2-2V5c0-1.1-.9-2-2-2zM9 17H7v-7h2v7zm4 0h-2V7h2v10zm4 0h-2v-4h2v4z\"/>\n",
              "    </g>\n",
              "</svg>\n",
              "  </button>\n",
              "\n",
              "<style>\n",
              "  .colab-df-quickchart {\n",
              "      --bg-color: #E8F0FE;\n",
              "      --fill-color: #1967D2;\n",
              "      --hover-bg-color: #E2EBFA;\n",
              "      --hover-fill-color: #174EA6;\n",
              "      --disabled-fill-color: #AAA;\n",
              "      --disabled-bg-color: #DDD;\n",
              "  }\n",
              "\n",
              "  [theme=dark] .colab-df-quickchart {\n",
              "      --bg-color: #3B4455;\n",
              "      --fill-color: #D2E3FC;\n",
              "      --hover-bg-color: #434B5C;\n",
              "      --hover-fill-color: #FFFFFF;\n",
              "      --disabled-bg-color: #3B4455;\n",
              "      --disabled-fill-color: #666;\n",
              "  }\n",
              "\n",
              "  .colab-df-quickchart {\n",
              "    background-color: var(--bg-color);\n",
              "    border: none;\n",
              "    border-radius: 50%;\n",
              "    cursor: pointer;\n",
              "    display: none;\n",
              "    fill: var(--fill-color);\n",
              "    height: 32px;\n",
              "    padding: 0;\n",
              "    width: 32px;\n",
              "  }\n",
              "\n",
              "  .colab-df-quickchart:hover {\n",
              "    background-color: var(--hover-bg-color);\n",
              "    box-shadow: 0 1px 2px rgba(60, 64, 67, 0.3), 0 1px 3px 1px rgba(60, 64, 67, 0.15);\n",
              "    fill: var(--button-hover-fill-color);\n",
              "  }\n",
              "\n",
              "  .colab-df-quickchart-complete:disabled,\n",
              "  .colab-df-quickchart-complete:disabled:hover {\n",
              "    background-color: var(--disabled-bg-color);\n",
              "    fill: var(--disabled-fill-color);\n",
              "    box-shadow: none;\n",
              "  }\n",
              "\n",
              "  .colab-df-spinner {\n",
              "    border: 2px solid var(--fill-color);\n",
              "    border-color: transparent;\n",
              "    border-bottom-color: var(--fill-color);\n",
              "    animation:\n",
              "      spin 1s steps(1) infinite;\n",
              "  }\n",
              "\n",
              "  @keyframes spin {\n",
              "    0% {\n",
              "      border-color: transparent;\n",
              "      border-bottom-color: var(--fill-color);\n",
              "      border-left-color: var(--fill-color);\n",
              "    }\n",
              "    20% {\n",
              "      border-color: transparent;\n",
              "      border-left-color: var(--fill-color);\n",
              "      border-top-color: var(--fill-color);\n",
              "    }\n",
              "    30% {\n",
              "      border-color: transparent;\n",
              "      border-left-color: var(--fill-color);\n",
              "      border-top-color: var(--fill-color);\n",
              "      border-right-color: var(--fill-color);\n",
              "    }\n",
              "    40% {\n",
              "      border-color: transparent;\n",
              "      border-right-color: var(--fill-color);\n",
              "      border-top-color: var(--fill-color);\n",
              "    }\n",
              "    60% {\n",
              "      border-color: transparent;\n",
              "      border-right-color: var(--fill-color);\n",
              "    }\n",
              "    80% {\n",
              "      border-color: transparent;\n",
              "      border-right-color: var(--fill-color);\n",
              "      border-bottom-color: var(--fill-color);\n",
              "    }\n",
              "    90% {\n",
              "      border-color: transparent;\n",
              "      border-bottom-color: var(--fill-color);\n",
              "    }\n",
              "  }\n",
              "</style>\n",
              "\n",
              "  <script>\n",
              "    async function quickchart(key) {\n",
              "      const quickchartButtonEl =\n",
              "        document.querySelector('#' + key + ' button');\n",
              "      quickchartButtonEl.disabled = true;  // To prevent multiple clicks.\n",
              "      quickchartButtonEl.classList.add('colab-df-spinner');\n",
              "      try {\n",
              "        const charts = await google.colab.kernel.invokeFunction(\n",
              "            'suggestCharts', [key], {});\n",
              "      } catch (error) {\n",
              "        console.error('Error during call to suggestCharts:', error);\n",
              "      }\n",
              "      quickchartButtonEl.classList.remove('colab-df-spinner');\n",
              "      quickchartButtonEl.classList.add('colab-df-quickchart-complete');\n",
              "    }\n",
              "    (() => {\n",
              "      let quickchartButtonEl =\n",
              "        document.querySelector('#df-d5314508-e20c-4210-918b-4c7f9e762d90 button');\n",
              "      quickchartButtonEl.style.display =\n",
              "        google.colab.kernel.accessAllowed ? 'block' : 'none';\n",
              "    })();\n",
              "  </script>\n",
              "</div>\n",
              "\n",
              "    </div>\n",
              "  </div>\n"
            ],
            "application/vnd.google.colaboratory.intrinsic+json": {
              "type": "dataframe",
              "variable_name": "data",
              "summary": "{\n  \"name\": \"data\",\n  \"rows\": 985,\n  \"fields\": [\n    {\n      \"column\": \"Unnamed: 0\",\n      \"properties\": {\n        \"dtype\": \"number\",\n        \"std\": 288,\n        \"min\": 0,\n        \"max\": 999,\n        \"num_unique_values\": 985,\n        \"samples\": [\n          617,\n          455,\n          736\n        ],\n        \"semantic_type\": \"\",\n        \"description\": \"\"\n      }\n    },\n    {\n      \"column\": \"Date\",\n      \"properties\": {\n        \"dtype\": \"category\",\n        \"num_unique_values\": 36,\n        \"samples\": [\n          \"April 2\",\n          \"April 30\",\n          \"April 16\"\n        ],\n        \"semantic_type\": \"\",\n        \"description\": \"\"\n      }\n    },\n    {\n      \"column\": \"Member\",\n      \"properties\": {\n        \"dtype\": \"category\",\n        \"num_unique_values\": 184,\n        \"samples\": [\n          \"Bruce Westerman\",\n          \"Joyce Beatty\",\n          \"Dan Sullivan\"\n        ],\n        \"semantic_type\": \"\",\n        \"description\": \"\"\n      }\n    },\n    {\n      \"column\": \"Party\",\n      \"properties\": {\n        \"dtype\": \"category\",\n        \"num_unique_values\": 2,\n        \"samples\": [\n          \"R\",\n          \"D\"\n        ],\n        \"semantic_type\": \"\",\n        \"description\": \"\"\n      }\n    },\n    {\n      \"column\": \"State / District\",\n      \"properties\": {\n        \"dtype\": \"category\",\n        \"num_unique_values\": 177,\n        \"samples\": [\n          \"Ark.-4\",\n          \"Ariz.-9\"\n        ],\n        \"semantic_type\": \"\",\n        \"description\": \"\"\n      }\n    },\n    {\n      \"column\": \"Title\",\n      \"properties\": {\n        \"dtype\": \"string\",\n        \"num_unique_values\": 963,\n        \"samples\": [\n          \"Fischer Questions Senior Official on Long-Term Nuclear Threats to American Security, Need to End Boom and Bust Cycle of Production\",\n          \"LaHood's Digital Trade for Development Act Passes Ways and Means Committee as Part of Generalized System of Preferences Reform Act\"\n        ],\n        \"semantic_type\": \"\",\n        \"description\": \"\"\n      }\n    },\n    {\n      \"column\": \"Press Release\",\n      \"properties\": {\n        \"dtype\": \"string\",\n        \"num_unique_values\": 908,\n        \"samples\": [\n          \"WASHINGTON, DC \\u2013 Today, U.S. Representatives Andy Barr (R-KY), Ami Bera, M.D. (D-CA), Mario D\\u00edaz-Balart (R-FL), and Gerald E. Connolly (D-VA), Co-Chairs of the Congressional Taiwan Caucus, introduced a bipartisan resolution reaffirming the United States\\u2019 commitment to Taiwan and commemorating the 45th anniversary of the enactment of the Taiwan Relations Act (TRA). The resolution is cosponsored by a bipartisan group of 63 Members of Congress. Enacted on April 10, 1979, the TRA is an historic piece of legislation that embodies the United States\\u2019 commitment to make defense articles available for Taiwan\\u2019s self-defense capability and to maintain the capacity of the United States to resist any threat endangering the security of the people of Taiwan. Over the past four decades, the TRA has underpinned the robust United States-Taiwan relationship. Today, the enduring bond between the people of the United States and Taiwan serves as a beacon of democratic values, human rights, and the rule of law in the Indo-Pacific and across the world. \\\"For the past 45 years, the Taiwan Relations Act has been a cornerstone of peace, stability, and prosperity in the Indo-Pacific region, embodying the strong and unwavering commitment of the United States to Taiwan,\\u201d said Congressman Andy Barr. \\u201cThe United States is proud to have a deep and dynamic partnership with Taiwan, one that is based on mutual respect, shared democratic values, and a common commitment to freedom.\\u201d \\u201cThe Taiwan Relations Act serves as the cornerstone of the U.S.-Taiwan relationship, fostering decades of fruitful economic, security, and trade ties,\\u201d said Congressman Ami Bera. \\u201cTaiwan\\u2019s engagement in international organizations to address shared challenges in public health, climate change, and democratic resilience exemplify its capabilities to be a force for good in the Indo-Pacific and across the globe. The United States remains steadfast in support of the people of Taiwan and our shared commitment to democratic values and the rule of law.\\u201d \\u201cI\\u2019m proud to co-sponsor this resolution commemorating the anniversary of the Taiwan Relations Act which serves as the cornerstone of the U.S.-Taiwan relationship. The United States and Taiwan share core values in democracy, human rights, and the rule of law. Taiwan stands as a key ally, crucial to prosperity and stability in the region. The United States remains steadfast in its support of the people of Taiwan, and will continue to fortify this valued partnership for years to come,\\u201d said Congressman Mario D\\u00edaz-Balart. \\u201cNow more than ever, it is imperative that the United States stands shoulder to shoulder with Taiwan to celebrate our shared democratic values,\\u201d said Congressman Gerald E. Connolly. ?\\u201cWhat better way to reaffirm that solidarity than by recognizing the lasting importance of the Taiwan Relations Act, the foundation of our relationship. Today, we honor the friendship between the US and Taiwan and we recommit ourselves to preserving and protecting the critical partnership we share.\\u201d U.S. Senators\\u00a0 Marco Rubio (R-FL) and Jeff Merkley (D-OR) introduced a companion resolution in the U.S. Senate. Full text of the resolution is available here. Permalink: https://barr.house.gov/2024/4/taiwan-caucus-co-chairs-introduce-bipartisan-resolution-reaffirming-u-s-commitment-to-taiwan-recognizing-45th-anniversary-of-the-taiwan-relations-act\",\n          \"Washington, DC\\u00a0\\u2013 Today, U.S. Senator Joe Manchin (D-WV), Chairman of the Senate Energy and Natural Resources Committee, took to the Senate floor to support\\u00a0S.4072,\\u00a0his\\u00a0legislation with Senator Mike Crapo (R-ID), that would block the U.S. Environmental Protection Agency\\u2019s (EPA) recently finalized tailpipe emissions rule that\\u00a0would\\u00a0force American consumers to purchase electric vehicles\\u00a0(EVs). \\u201cThey're [the Administration\\u00a0is] saying by 2032 that basically 70% of the vehicles have to be electric. Two things why you can't do it, Madam President. First of all, we don't have the infrastructure to do it. Next of all, we don't\\u00a0have the minerals to make the batteries,\\u201d\\u00a0said Chairman Manchin in part.\\u00a0\\u201cI remember in 1974 we weren't producing what we should be producing. We were depending on Saudi Arabia, and OPEC put an embargo on us. I waited in line to buy gasoline to go to work. I remember that day very well. It was a horrible time. I sure as heck don't want to have to wait on a battery coming from China to drive my vehicle to work. So, this rule should never be here.\\u201d \\u201cForget about being a Democrat or a Republican. Be an American. Let the market do what it does best. The market will decide. If you have a better mousetrap, I'll buy. But we shouldn't be buying when we have to be totally reliant on a foreign country of concern. We saw what Putin did \\u2014 weaponized energy for our allies overseas. I tell you\\u00a0that Xi\\u00a0Jinping\\u00a0from China will do the same thing with the critical minerals we're depending on. And if our transportation mode for our economy, our work, our getting goods to market is dependent on him getting us what we need, it ain't going to happen, gang,\\u201d\\u00a0continued Chairman Manchin.\\u00a0\"\n        ],\n        \"semantic_type\": \"\",\n        \"description\": \"\"\n      }\n    },\n    {\n      \"column\": \"sentences\",\n      \"properties\": {\n        \"dtype\": \"string\",\n        \"num_unique_values\": 901,\n        \"samples\": [\n          \"['sure nice home last week especially two long week rare saturday session washington', 'always enjoyed traveling around district visit northfield wheeling deerfield highland park waukegan libertyville', 'week home distinct last week chance meet many student including student town hall caruso edgewood middle school lunch learn session together towards peace roundtable annual service information night representative army navy marine air force coast guard year vernon hill high school', 'share highlight week home want provide expanded thought trip took weekend well thought protest seeing campus around country', 'past weekend special opportunity', 'invited guest speaker world economic forum special meeting global collaboration growth energy development riyadh saudi arabia', 'event brought together nearly senior leader government business ngo across globe discussion topic ranging climate change clean energy global trade policy future prospect middle east peace development', 'addition specific session homeland trade opportunity meet official saudi arabia united state country discus situation gaza possibility new direction entire middle east', 'talked hope ceasefire release hostage surge aid gaza', 'heard continued plan pursuing normalization agreement israel everyone met wanted opinion upcoming election united state', 'returned early washington vote house left conference early monday morning secretary state blinken arrived later day', 'wish could heard secretary blinken remark share president biden view inflection point middle east', 'also agree leadership critically important meet challenge around world without strong partner ally', 'perhaps biggest surprise short visit riyadh left conference feeling hope future', 'based heard believe peace saudi arabia israel within reach something creates unprecedented opportunity change trajectory relation region prove hamas barbaric attack october fatal strategic error', 'read official statement visit interested watch panel session', 'write world waiting hamas respond latest ceasefire proposal brokered egypt qatar united state', 'secretary blinken speaking riyadh called deal extraordinarily generous part unfortunately secretary left region wednesday without response hamas leadership', 'meanwhile closely watching growing concern protest college campus around country including alma mater northwestern', 'aware protest spreading high school well', 'always fierce advocate defender free speech', 'believe everyone right say speak mind matter vehemently may disagree point view', 'freedom speech however include right harass isolate threaten others', 'allow violation university rule vandalism campus property', 'fully recognize appreciate immense sadness pain felt strong view held student identify side conflict gaza', 'understand advocate deeply passionate want perspective heard position wholly adopted', 'believe better place college robust thoughtful debate', 'sadly instead dialogue seen much side trying drown well outside group individual entering campus ground feed flame', 'particularly appalled image many protestors holding rabidly antisemitic sign chanting slogan celebrating terrorism violence physically threatening even assaulting student', 'responsibility school leadership ensure safety security student university college', 'extremely disappointed response many university leader failed adequately even minimally protect student', 'school fact conceded demand people spewing vile hateful demeaning often antisemitic rhetoric', 'need university leader step speak hate discrimination enforce school rule time place manner everything power ensure healthy academic community allow every student thrive irrespective hail god pray choose identify', 'cause physical harm others intentionally damage school leader must make sure individual held fully accountable behavior', 'joined msnbc andrea mitchell report week discus recent trip saudi arabia israel well campus protest watch interview', 'please keep reading learn happening washington home', 'started week district grabbing lunch brunch caf\\u00e9 village deerfield mayor dan shapiro village official kent street andrew lichterman', 'appreciated update village economic development project', 'pain losing loved one gun violence never fade', 'sadly pain shared many community highland park waukegan', 'joined lake county leader victim gun violence waukegan discus work gun violence prevention initiative', 'work carried making real impact community serving model rest country', 'thank lake county state attorney helping u invest bettering community safety', 'thrilled join housing opportunity development corporation state senator julie morrison state representative bob morgan community member break ground zion wood affordable housing complex', 'meaningful step toward increasing deerfield affordable housing supply', 'mental health crucial community', 'joined josselyn team northbrook celebrate kickoff annual capital campaign', 'proud support success work eliminate barrier mental health service', 'last year pleased successfully advocate million federal funding center new headquarters', 'always glad opportunity visit student hear mind', 'always amazed tuned world insightful question', 'risk boastful invited nephew brady niece mia town hall conversation entire grade caruso middle school', 'student asked smartest question fully engaged vibrant discussion', 'full hour wished time together', 'different day different school time edgewood middle school', 'blown away question tried best meet student high expectation', 'big surprise last question end student asked order burrito', 'based cheer one like brown rice chicken pepper onion lot veggie lettuce cheese', 'every year office host student parent across district learn application nomination process five military service academy well opportunity rotc', 'year graciously hosted vernon hill high school honored joined via zoom midshipman andrew bacilek honor nominating u naval academy', 'andrew member company proud member class', 'navy dad always encouraging see many promising talented young people interested serving protecting country commend student family hard work commitment', 'semester district dc office joined select group talented enthusiastic intern interested career public service', 'semester exception', 'throughout time u colin liz johanna became important part district team', 'miss district office know destined bright future ahead', 'opportunity attend annual lake county mikva challenge showcase waukegan', 'year event featured civics action project school across district', 'student effectively identified issue passionate assessed way impact around issue', 'enjoyed hearing project look forward seeing put strategy action', 'ended week district meeting student highland park high school baker college prep together towards peace event rosewood beach interpretive center', 'joined panel discussion majority leader il house representative robyn gabel state bob morgan highland park mayor nancy rotering broad discussion gun violence impact student community', 'appreciated opportunity hear personal experience perspective well idea advocating safe gun legislation', 'continue work congress pas gun control reform sure keep student idea mind', 'welcomed ret', 'henry hank krakowski office', 'captain krakowski forty year aviation experience including three year chief operating officer federal aviation administration served numerous position united airline', 'great conversation rapidly developing advance air mobility industry sustainable aviation fuel saf', 'great time allendale president jason keeler new team member amir bastanipour', 'discussed allendale star program shelter transitional adolescent resource program runaway homeless youth', 'appreciate work support vulnerable youth also grateful plant gifted office', 'nancy richman constituent highland park dropped advocate medicare home health accessibility act', 'met carole rosen member going home coalition arc illinois discus done federal level bring awareness disability issue', 'please visit website find resource available everything saving money internet bill locating local food bank various help line', 'always happy meet constituent lincolnshire office share idea discus legislation catch happening community', 'want schedule meeting', 'nba playoff time sadly bull longer mix', 'nevertheless basketball related story thought might interest', 'actually much story interesting comparison know adult blue whale largest animal ever live planet earth longer basketball court', 'source dana wharf blog blue whale listed endangered estimated remaining population', 'excited see story blue whale returning seychelles', 'many specie around world threatened extinction either directly human activity indirectly effect climate change caused human activity', 'good news learning successfully help many specie begin recover', 'wonderful weekend', 'sincerely bradley schneider member congress']\",\n          \"['washington national science foundation nsf announced award three college north dakota tribal college university program seek increase science technology engineering mathematics stem instructional research capacity specific institution higher education', 'nsf award distributed following institution']\"\n        ],\n        \"semantic_type\": \"\",\n        \"description\": \"\"\n      }\n    },\n    {\n      \"column\": \"docTokens\",\n      \"properties\": {\n        \"dtype\": \"string\",\n        \"num_unique_values\": 901,\n        \"samples\": [\n          \"sure nice home last week especially two long week rare saturday session washington always enjoyed traveling around district visit northfield wheeling deerfield highland park waukegan libertyville week home distinct last week chance meet many student including student town hall caruso edgewood middle school lunch learn session together towards peace roundtable annual service information night representative army navy marine air force coast guard year vernon hill high school share highlight week home want provide expanded thought trip took weekend well thought protest seeing campus around country past weekend special opportunity invited guest speaker world economic forum special meeting global collaboration growth energy development riyadh saudi arabia event brought together nearly senior leader government business ngo across globe discussion topic ranging climate change clean energy global trade policy future prospect middle east peace development addition specific session homeland trade opportunity meet official saudi arabia united state country discus situation gaza possibility new direction entire middle east talked hope ceasefire release hostage surge aid gaza heard continued plan pursuing normalization agreement israel everyone met wanted opinion upcoming election united state returned early washington vote house left conference early monday morning secretary state blinken arrived later day wish could heard secretary blinken remark share president biden view inflection point middle east also agree leadership critically important meet challenge around world without strong partner ally perhaps biggest surprise short visit riyadh left conference feeling hope future based heard believe peace saudi arabia israel within reach something creates unprecedented opportunity change trajectory relation region prove hamas barbaric attack october fatal strategic error read official statement visit interested watch panel session write world waiting hamas respond latest ceasefire proposal brokered egypt qatar united state secretary blinken speaking riyadh called deal extraordinarily generous part unfortunately secretary left region wednesday without response hamas leadership meanwhile closely watching growing concern protest college campus around country including alma mater northwestern aware protest spreading high school well always fierce advocate defender free speech believe everyone right say speak mind matter vehemently may disagree point view freedom speech however include right harass isolate threaten others allow violation university rule vandalism campus property fully recognize appreciate immense sadness pain felt strong view held student identify side conflict gaza understand advocate deeply passionate want perspective heard position wholly adopted believe better place college robust thoughtful debate sadly instead dialogue seen much side trying drown well outside group individual entering campus ground feed flame particularly appalled image many protestors holding rabidly antisemitic sign chanting slogan celebrating terrorism violence physically threatening even assaulting student responsibility school leadership ensure safety security student university college extremely disappointed response many university leader failed adequately even minimally protect student school fact conceded demand people spewing vile hateful demeaning often antisemitic rhetoric need university leader step speak hate discrimination enforce school rule time place manner everything power ensure healthy academic community allow every student thrive irrespective hail god pray choose identify cause physical harm others intentionally damage school leader must make sure individual held fully accountable behavior joined msnbc andrea mitchell report week discus recent trip saudi arabia israel well campus protest watch interview please keep reading learn happening washington home started week district grabbing lunch brunch caf\\u00e9 village deerfield mayor dan shapiro village official kent street andrew lichterman appreciated update village economic development project pain losing loved one gun violence never fade sadly pain shared many community highland park waukegan joined lake county leader victim gun violence waukegan discus work gun violence prevention initiative work carried making real impact community serving model rest country thank lake county state attorney helping u invest bettering community safety thrilled join housing opportunity development corporation state senator julie morrison state representative bob morgan community member break ground zion wood affordable housing complex meaningful step toward increasing deerfield affordable housing supply mental health crucial community joined josselyn team northbrook celebrate kickoff annual capital campaign proud support success work eliminate barrier mental health service last year pleased successfully advocate million federal funding center new headquarters always glad opportunity visit student hear mind always amazed tuned world insightful question risk boastful invited nephew brady niece mia town hall conversation entire grade caruso middle school student asked smartest question fully engaged vibrant discussion full hour wished time together different day different school time edgewood middle school blown away question tried best meet student high expectation big surprise last question end student asked order burrito based cheer one like brown rice chicken pepper onion lot veggie lettuce cheese every year office host student parent across district learn application nomination process five military service academy well opportunity rotc year graciously hosted vernon hill high school honored joined via zoom midshipman andrew bacilek honor nominating u naval academy andrew member company proud member class navy dad always encouraging see many promising talented young people interested serving protecting country commend student family hard work commitment semester district dc office joined select group talented enthusiastic intern interested career public service semester exception throughout time u colin liz johanna became important part district team miss district office know destined bright future ahead opportunity attend annual lake county mikva challenge showcase waukegan year event featured civics action project school across district student effectively identified issue passionate assessed way impact around issue enjoyed hearing project look forward seeing put strategy action ended week district meeting student highland park high school baker college prep together towards peace event rosewood beach interpretive center joined panel discussion majority leader il house representative robyn gabel state bob morgan highland park mayor nancy rotering broad discussion gun violence impact student community appreciated opportunity hear personal experience perspective well idea advocating safe gun legislation continue work congress pas gun control reform sure keep student idea mind welcomed ret henry hank krakowski office captain krakowski forty year aviation experience including three year chief operating officer federal aviation administration served numerous position united airline great conversation rapidly developing advance air mobility industry sustainable aviation fuel saf great time allendale president jason keeler new team member amir bastanipour discussed allendale star program shelter transitional adolescent resource program runaway homeless youth appreciate work support vulnerable youth also grateful plant gifted office nancy richman constituent highland park dropped advocate medicare home health accessibility act met carole rosen member going home coalition arc illinois discus done federal level bring awareness disability issue please visit website find resource available everything saving money internet bill locating local food bank various help line always happy meet constituent lincolnshire office share idea discus legislation catch happening community want schedule meeting nba playoff time sadly bull longer mix nevertheless basketball related story thought might interest actually much story interesting comparison know adult blue whale largest animal ever live planet earth longer basketball court source dana wharf blog blue whale listed endangered estimated remaining population excited see story blue whale returning seychelles many specie around world threatened extinction either directly human activity indirectly effect climate change caused human activity good news learning successfully help many specie begin recover wonderful weekend sincerely bradley schneider member congress\",\n          \"washington national science foundation nsf announced award three college north dakota tribal college university program seek increase science technology engineering mathematics stem instructional research capacity specific institution higher education nsf award distributed following institution\"\n        ],\n        \"semantic_type\": \"\",\n        \"description\": \"\"\n      }\n    }\n  ]\n}"
            }
          },
          "metadata": {},
          "execution_count": 63
        }
      ]
    },
    {
      "cell_type": "code",
      "source": [
        "data['docTokens'].isna().value_counts()"
      ],
      "metadata": {
        "colab": {
          "base_uri": "https://localhost:8080/"
        },
        "id": "2pjgAk4JwzLv",
        "outputId": "f1effcae-6680-418a-893b-b2410f1998b3"
      },
      "execution_count": 60,
      "outputs": [
        {
          "output_type": "execute_result",
          "data": {
            "text/plain": [
              "docTokens\n",
              "False    985\n",
              "True       4\n",
              "Name: count, dtype: int64"
            ]
          },
          "metadata": {},
          "execution_count": 60
        }
      ]
    },
    {
      "cell_type": "code",
      "source": [
        "import pandas as pd\n",
        "data = data.dropna(subset=['docTokens'])"
      ],
      "metadata": {
        "id": "4hRvBK1LxKbP"
      },
      "execution_count": null,
      "outputs": []
    },
    {
      "cell_type": "markdown",
      "source": [
        "## TD-IDF - based on full documents"
      ],
      "metadata": {
        "id": "V6gRN1hhylIr"
      }
    },
    {
      "cell_type": "code",
      "source": [
        "from sklearn.model_selection import train_test_split\n",
        "\n",
        "X_train, x_val, y_train, y_val = train_test_split(data['docTokens'], data['Party'], test_size=0.2, stratify=data['Party'])\n",
        "print(f'Training samples: {len(X_train)}')\n",
        "print(f'Validation samples: {len(x_val)}')"
      ],
      "metadata": {
        "colab": {
          "base_uri": "https://localhost:8080/"
        },
        "id": "oHZ4B7iNv1Xg",
        "outputId": "27213261-a61a-47f0-d934-be00eb037bda"
      },
      "execution_count": 6,
      "outputs": [
        {
          "output_type": "stream",
          "name": "stdout",
          "text": [
            "Training samples: 788\n",
            "Validation samples: 197\n"
          ]
        }
      ]
    },
    {
      "cell_type": "code",
      "source": [
        "from sklearn.preprocessing import OneHotEncoder\n",
        "\n",
        "ohe = OneHotEncoder(sparse_output=False)\n",
        "\n",
        "y_train_ohe = ohe.fit_transform(y_train.values.reshape(-1, 1))\n",
        "y_val_ohe = ohe.transform(y_val.values.reshape(-1, 1))\n",
        "\n",
        "print(f'One hot encoded training labels shape: {y_train_ohe.shape}')\n",
        "print(f'One hot encoded validation labels shape: {y_val_ohe.shape}')"
      ],
      "metadata": {
        "colab": {
          "base_uri": "https://localhost:8080/"
        },
        "id": "wbXlRZDKvtam",
        "outputId": "7229fb39-b909-4276-c59f-ba283e7bd660"
      },
      "execution_count": 7,
      "outputs": [
        {
          "output_type": "stream",
          "name": "stdout",
          "text": [
            "One hot encoded training labels shape: (788, 2)\n",
            "One hot encoded validation labels shape: (197, 2)\n"
          ]
        }
      ]
    },
    {
      "cell_type": "code",
      "source": [
        "from sklearn.preprocessing import LabelEncoder\n",
        "\n",
        "label_encoder = LabelEncoder()\n",
        "y_train_le = label_encoder.fit_transform(y_train)\n",
        "y_val_le = label_encoder.transform(y_val)\n",
        "\n",
        "print(f'Label encoded training labels shape: {y_train_le.shape}')\n",
        "print(f'Label encoded validation labels shape: {y_val_le.shape}')"
      ],
      "metadata": {
        "colab": {
          "base_uri": "https://localhost:8080/"
        },
        "id": "pNVklQHSwr19",
        "outputId": "3074a8f6-b68f-4fa4-f45c-2172c6e30ce3"
      },
      "execution_count": 8,
      "outputs": [
        {
          "output_type": "stream",
          "name": "stdout",
          "text": [
            "Label encoded training labels shape: (788,)\n",
            "Label encoded validation labels shape: (197,)\n"
          ]
        }
      ]
    },
    {
      "cell_type": "code",
      "source": [
        "for i in range(5):\n",
        "    print(f'Original label: {y_train.iloc[i]} - Label encoded: {y_train_le[i]}')"
      ],
      "metadata": {
        "colab": {
          "base_uri": "https://localhost:8080/"
        },
        "id": "pPetYMu7vtc7",
        "outputId": "b387ccf9-759b-431a-a17e-0dbb087d77e2"
      },
      "execution_count": 9,
      "outputs": [
        {
          "output_type": "stream",
          "name": "stdout",
          "text": [
            "Original label: R - Label encoded: 1\n",
            "Original label: R - Label encoded: 1\n",
            "Original label: R - Label encoded: 1\n",
            "Original label: D - Label encoded: 0\n",
            "Original label: R - Label encoded: 1\n"
          ]
        }
      ]
    },
    {
      "cell_type": "code",
      "source": [
        "num_classes = len(label_encoder.classes_)\n",
        "class_names = label_encoder.classes_"
      ],
      "metadata": {
        "id": "jmFqN3r3wH4E"
      },
      "execution_count": 10,
      "outputs": []
    },
    {
      "cell_type": "code",
      "source": [
        "text_clf = Pipeline([\n",
        "    ('tfidf', TfidfVectorizer()),\n",
        "    ('clf', SVC(kernel='linear', C=1.0, random_state=42))\n",
        "])\n",
        "\n",
        "# fit the model\n",
        "text_clf.fit(X_train, y_train_le)"
      ],
      "metadata": {
        "colab": {
          "base_uri": "https://localhost:8080/",
          "height": 124
        },
        "id": "TkJuLpl3wH1v",
        "outputId": "0c27c194-5816-4513-88eb-8b774cf976b0"
      },
      "execution_count": 13,
      "outputs": [
        {
          "output_type": "execute_result",
          "data": {
            "text/plain": [
              "Pipeline(steps=[('tfidf', TfidfVectorizer()),\n",
              "                ('clf', SVC(kernel='linear', random_state=42))])"
            ],
            "text/html": [
              "<style>#sk-container-id-1 {color: black;background-color: white;}#sk-container-id-1 pre{padding: 0;}#sk-container-id-1 div.sk-toggleable {background-color: white;}#sk-container-id-1 label.sk-toggleable__label {cursor: pointer;display: block;width: 100%;margin-bottom: 0;padding: 0.3em;box-sizing: border-box;text-align: center;}#sk-container-id-1 label.sk-toggleable__label-arrow:before {content: \"▸\";float: left;margin-right: 0.25em;color: #696969;}#sk-container-id-1 label.sk-toggleable__label-arrow:hover:before {color: black;}#sk-container-id-1 div.sk-estimator:hover label.sk-toggleable__label-arrow:before {color: black;}#sk-container-id-1 div.sk-toggleable__content {max-height: 0;max-width: 0;overflow: hidden;text-align: left;background-color: #f0f8ff;}#sk-container-id-1 div.sk-toggleable__content pre {margin: 0.2em;color: black;border-radius: 0.25em;background-color: #f0f8ff;}#sk-container-id-1 input.sk-toggleable__control:checked~div.sk-toggleable__content {max-height: 200px;max-width: 100%;overflow: auto;}#sk-container-id-1 input.sk-toggleable__control:checked~label.sk-toggleable__label-arrow:before {content: \"▾\";}#sk-container-id-1 div.sk-estimator input.sk-toggleable__control:checked~label.sk-toggleable__label {background-color: #d4ebff;}#sk-container-id-1 div.sk-label input.sk-toggleable__control:checked~label.sk-toggleable__label {background-color: #d4ebff;}#sk-container-id-1 input.sk-hidden--visually {border: 0;clip: rect(1px 1px 1px 1px);clip: rect(1px, 1px, 1px, 1px);height: 1px;margin: -1px;overflow: hidden;padding: 0;position: absolute;width: 1px;}#sk-container-id-1 div.sk-estimator {font-family: monospace;background-color: #f0f8ff;border: 1px dotted black;border-radius: 0.25em;box-sizing: border-box;margin-bottom: 0.5em;}#sk-container-id-1 div.sk-estimator:hover {background-color: #d4ebff;}#sk-container-id-1 div.sk-parallel-item::after {content: \"\";width: 100%;border-bottom: 1px solid gray;flex-grow: 1;}#sk-container-id-1 div.sk-label:hover label.sk-toggleable__label {background-color: #d4ebff;}#sk-container-id-1 div.sk-serial::before {content: \"\";position: absolute;border-left: 1px solid gray;box-sizing: border-box;top: 0;bottom: 0;left: 50%;z-index: 0;}#sk-container-id-1 div.sk-serial {display: flex;flex-direction: column;align-items: center;background-color: white;padding-right: 0.2em;padding-left: 0.2em;position: relative;}#sk-container-id-1 div.sk-item {position: relative;z-index: 1;}#sk-container-id-1 div.sk-parallel {display: flex;align-items: stretch;justify-content: center;background-color: white;position: relative;}#sk-container-id-1 div.sk-item::before, #sk-container-id-1 div.sk-parallel-item::before {content: \"\";position: absolute;border-left: 1px solid gray;box-sizing: border-box;top: 0;bottom: 0;left: 50%;z-index: -1;}#sk-container-id-1 div.sk-parallel-item {display: flex;flex-direction: column;z-index: 1;position: relative;background-color: white;}#sk-container-id-1 div.sk-parallel-item:first-child::after {align-self: flex-end;width: 50%;}#sk-container-id-1 div.sk-parallel-item:last-child::after {align-self: flex-start;width: 50%;}#sk-container-id-1 div.sk-parallel-item:only-child::after {width: 0;}#sk-container-id-1 div.sk-dashed-wrapped {border: 1px dashed gray;margin: 0 0.4em 0.5em 0.4em;box-sizing: border-box;padding-bottom: 0.4em;background-color: white;}#sk-container-id-1 div.sk-label label {font-family: monospace;font-weight: bold;display: inline-block;line-height: 1.2em;}#sk-container-id-1 div.sk-label-container {text-align: center;}#sk-container-id-1 div.sk-container {/* jupyter's `normalize.less` sets `[hidden] { display: none; }` but bootstrap.min.css set `[hidden] { display: none !important; }` so we also need the `!important` here to be able to override the default hidden behavior on the sphinx rendered scikit-learn.org. See: https://github.com/scikit-learn/scikit-learn/issues/21755 */display: inline-block !important;position: relative;}#sk-container-id-1 div.sk-text-repr-fallback {display: none;}</style><div id=\"sk-container-id-1\" class=\"sk-top-container\"><div class=\"sk-text-repr-fallback\"><pre>Pipeline(steps=[(&#x27;tfidf&#x27;, TfidfVectorizer()),\n",
              "                (&#x27;clf&#x27;, SVC(kernel=&#x27;linear&#x27;, random_state=42))])</pre><b>In a Jupyter environment, please rerun this cell to show the HTML representation or trust the notebook. <br />On GitHub, the HTML representation is unable to render, please try loading this page with nbviewer.org.</b></div><div class=\"sk-container\" hidden><div class=\"sk-item sk-dashed-wrapped\"><div class=\"sk-label-container\"><div class=\"sk-label sk-toggleable\"><input class=\"sk-toggleable__control sk-hidden--visually\" id=\"sk-estimator-id-1\" type=\"checkbox\" ><label for=\"sk-estimator-id-1\" class=\"sk-toggleable__label sk-toggleable__label-arrow\">Pipeline</label><div class=\"sk-toggleable__content\"><pre>Pipeline(steps=[(&#x27;tfidf&#x27;, TfidfVectorizer()),\n",
              "                (&#x27;clf&#x27;, SVC(kernel=&#x27;linear&#x27;, random_state=42))])</pre></div></div></div><div class=\"sk-serial\"><div class=\"sk-item\"><div class=\"sk-estimator sk-toggleable\"><input class=\"sk-toggleable__control sk-hidden--visually\" id=\"sk-estimator-id-2\" type=\"checkbox\" ><label for=\"sk-estimator-id-2\" class=\"sk-toggleable__label sk-toggleable__label-arrow\">TfidfVectorizer</label><div class=\"sk-toggleable__content\"><pre>TfidfVectorizer()</pre></div></div></div><div class=\"sk-item\"><div class=\"sk-estimator sk-toggleable\"><input class=\"sk-toggleable__control sk-hidden--visually\" id=\"sk-estimator-id-3\" type=\"checkbox\" ><label for=\"sk-estimator-id-3\" class=\"sk-toggleable__label sk-toggleable__label-arrow\">SVC</label><div class=\"sk-toggleable__content\"><pre>SVC(kernel=&#x27;linear&#x27;, random_state=42)</pre></div></div></div></div></div></div></div>"
            ]
          },
          "metadata": {},
          "execution_count": 13
        }
      ]
    },
    {
      "cell_type": "code",
      "source": [
        "text_clf.score(x_val, y_val_le)"
      ],
      "metadata": {
        "colab": {
          "base_uri": "https://localhost:8080/"
        },
        "id": "6X0mZqMRwHy2",
        "outputId": "e6c2dd5b-82d3-4bb0-cb46-f40571892c7d"
      },
      "execution_count": 14,
      "outputs": [
        {
          "output_type": "execute_result",
          "data": {
            "text/plain": [
              "0.8781725888324873"
            ]
          },
          "metadata": {},
          "execution_count": 14
        }
      ]
    },
    {
      "cell_type": "markdown",
      "source": [
        "## RNN on full data based on documents"
      ],
      "metadata": {
        "id": "brYfwAnF3TKb"
      }
    },
    {
      "cell_type": "code",
      "source": [
        "import random\n",
        "\n",
        "# sample a random sentence from the training set\n",
        "random_idx = random.randint(0, len(X_train))\n",
        "print(f'Random Document: {X_train.iloc[random_idx]}')\n",
        "print(f'Party: {y_train.iloc[random_idx]}')"
      ],
      "metadata": {
        "colab": {
          "base_uri": "https://localhost:8080/"
        },
        "id": "SuG6CHet3Hje",
        "outputId": "40646fbb-3862-4782-edd2-abfa77898d4f"
      },
      "execution_count": 17,
      "outputs": [
        {
          "output_type": "stream",
          "name": "stdout",
          "text": [
            "Random Document: washington earl buddy carter andrew clyde today introduced resolution declaring april day tax day fairtax day fairtax act bill would replace current tax code national consumption tax eliminating internal revenue service irs tax day establishing national fairtax day come directly united state traditional tax day resolution signal readiness begin new fair process give people power paycheck american spend six billion hour per year filing tax instead putting dollar straight uncle sam pocket fairtax allows keep paycheck choose much pay tax every year simple fair preferred alternative current system punishes success put unelected bureaucrat charge paycheck let make april last tax day ever time change fairtax day raise awareness popular proposal said carter fairtax would create simplified fair tax code american would also foster economic prosperity eliminate need irs become weaponized staunch supporter carter fairtax act proud join fellow georgian raising awareness commonsense legislation introducing resolution recognize april fairtax day said clyde first introduced congress former georgia congressman john linder fairtax leading tax reform movement country proposal would abolish personal corporate income tax death tax gift tax payroll tax eliminating need irs fairtax would repeal current tax code replace single national consumption tax allows american keep every cent money tax system simple efficient friendly economic growth unintrusive fair read full resolution text read fairtax act\n",
            "Author: R\n"
          ]
        }
      ]
    },
    {
      "cell_type": "code",
      "source": [
        "from sklearn.preprocessing import OneHotEncoder\n",
        "\n",
        "ohe = OneHotEncoder(sparse_output=False)\n",
        "\n",
        "y_train_ohe = ohe.fit_transform(y_train.values.reshape(-1, 1))\n",
        "y_val_ohe = ohe.transform(y_val.values.reshape(-1, 1))\n",
        "\n",
        "print(f'One hot encoded training labels shape: {y_train_ohe.shape}')\n",
        "print(f'One hot encoded validation labels shape: {y_val_ohe.shape}')"
      ],
      "metadata": {
        "colab": {
          "base_uri": "https://localhost:8080/"
        },
        "id": "8shzRLkm3Hmj",
        "outputId": "fede9d44-4baf-4344-a269-3c7e6a1e7f3b"
      },
      "execution_count": 18,
      "outputs": [
        {
          "output_type": "stream",
          "name": "stdout",
          "text": [
            "One hot encoded training labels shape: (788, 2)\n",
            "One hot encoded validation labels shape: (197, 2)\n"
          ]
        }
      ]
    },
    {
      "cell_type": "code",
      "source": [
        "import tensorflow as tf\n",
        "from tensorflow.keras.layers.experimental.preprocessing import TextVectorization\n",
        "\n",
        "# Create a TextVectorization layer\n",
        "text_vectorizer = TextVectorization(\n",
        "    max_tokens=8000,  # Maximum size of the vocabulary\n",
        "    output_mode='int',          # Output the token indices as integers\n",
        "    output_sequence_length=600,  # Length of output sequences\n",
        "    pad_to_max_tokens=True      # Pad sequences to max_tokens\n",
        ")"
      ],
      "metadata": {
        "id": "5UyDnuXK4AgH"
      },
      "execution_count": 19,
      "outputs": []
    },
    {
      "cell_type": "code",
      "source": [
        "import random\n",
        "\n",
        "text_vectorizer.adapt(X_train.values)\n",
        "\n",
        "example_sent = random.choice(X_train.values)\n",
        "print(f'Original text:\\n{example_sent}')\n",
        "print(f'\\nVectorized text:\\n{text_vectorizer([example_sent])}')\n",
        "print('Length of vector:', len(text_vectorizer([example_sent]).numpy()[0]))"
      ],
      "metadata": {
        "colab": {
          "base_uri": "https://localhost:8080/"
        },
        "id": "lMvfiivp4DVP",
        "outputId": "36458645-81e8-4c05-84bc-8d4c9177c3a9"
      },
      "execution_count": 20,
      "outputs": [
        {
          "output_type": "stream",
          "name": "stdout",
          "text": [
            "Original text:\n",
            "washington congressman bob good introduced iran china accountability act prevent biden administration entering disastrous nuclear agreement iran bill block taxpayer dollar used advance nuclear agreement iran iran terminated cash tie china requires iran terminate tie terrorist group like hamas president biden effectively abandoned important friend ally middle east israel early day since hamas terrorist brutally attacked biden pressuring israel surrender said good meanwhile biden waived sanction iran releasing billion dollar iran china accountability act condemns terrorist attack mandate rigorous process potential nuclear agreement iran among provision bill good continued iran china seek america downfall legislation hold chinese communist party accountable ensure biden never failed nuclear agreement mary miller andy ogles barry moore clay higgins supporting group endowment middle east truth emet zionist organization america zoa west particularly united state israel entering particularly perilous historic period merger two greatest enemy islamic republic iran china nation harbor profound resentment antipathy value democracy represent making legislation critically important iran already recipient billion dollar u taxpayer fund jcpoa brutally massacred citizen courageously fought overthrow brutal theocracy also created network terrorist proxy throughout middle east china attempting purchase economic power throughout region important bill must passed agreement iran must go constitutional protection ratification u sarah stern founder president endowment middle east truth emet iran root cause problem middle east region making deal iran continue support islamist terrorist group including hamas hezbollah houthis calling destruction america israel intolerable obscenity foreign policy interest united state well moral integrity zoa applauds bob good leadership introducing house bill would prohibit expenditure u taxpayer fund advance nuclear agreement iran iran working enemy including arab terrorist responsible october atrocity china played extremely hostile roll entire middle east region agreement iran effect ratified treaty requirement constitution step forward legislation requires iran end support horrific terrorist group like hamas zoa praise good senator blackburn important effort morton klein national president zionist organization america zoa\n",
            "\n",
            "Vectorized text:\n",
            "[[   8   55  886  253  131  101  193  529    4  458   26   35 2915 4762\n",
            "   433  521  101   14 1512  341  301  280  487  433  521  101  101 4939\n",
            "  3306 1872  193  840  101 5551 1872  306  249   77  266   19   26 1076\n",
            "  1999   71  540  199  555  387   45 1156   85  127  266  306 4041 2559\n",
            "    26 6617   45 7623    3  253 3634   26 5483  466  101 3585  163  301\n",
            "   101  193  529    4 7189  306  133 1595 2998  159  510  433  521  101\n",
            "   662  714   14  253  302  101  193  809   76    1   20  287  640  986\n",
            "   676  480   48   26  421  911  433  521 1452 2029 2675 4604 3500  754\n",
            "  4811 5919  464  249 6007  555  387 1631    1 5455  241   76 5454  475\n",
            "   553   46    5   45 2915  553    1  594 1039    1  180 1210 2132 2500\n",
            "  1747  101  193   78 3057 2723 7867    1  682  519 1274  353   20 2651\n",
            "    71  101  356 1356  163  301   59  341  111    1 4041    1  461    1\n",
            "  1497    1 2665    1   21  930  489  306 1588  332  555  387  193 2809\n",
            "   959  154  284  332  297   71   14   54  221  521  101   54  246 1027\n",
            "   175    1   59 5633    1 2513   19 6007  555  387 1631    1  101 1585\n",
            "   730  402  555  387  297  353  882  101   82   15    1  306  249   67\n",
            "   266 2386 3443  527 2922   76   45    1    1  169   63  338   46    5\n",
            "   178 2112 2626 5454 2233  886  253  135  755    9   14    7 2599 5268\n",
            "    59  341  111  487  433  521  101  101  118 2132   67 2673  306  690\n",
            "   366 3503  193 1591 1837 6909 7824  845  555  387  297  521  101  865\n",
            "  7934 3800  624 1261  179  132   20  840  101  257   15 1097  306  249\n",
            "    77  266 5454 5065  253    2 1385   71   65    1    1   13   19 5455\n",
            "   241   76 5454    0    0    0    0    0    0    0    0    0    0    0\n",
            "     0    0    0    0    0    0    0    0    0    0    0    0    0    0\n",
            "     0    0    0    0    0    0    0    0    0    0    0    0    0    0\n",
            "     0    0    0    0    0    0    0    0    0    0    0    0    0    0\n",
            "     0    0    0    0    0    0    0    0    0    0    0    0    0    0\n",
            "     0    0    0    0    0    0    0    0    0    0    0    0    0    0\n",
            "     0    0    0    0    0    0    0    0    0    0    0    0    0    0\n",
            "     0    0    0    0    0    0    0    0    0    0    0    0    0    0\n",
            "     0    0    0    0    0    0    0    0    0    0    0    0    0    0\n",
            "     0    0    0    0    0    0    0    0    0    0    0    0    0    0\n",
            "     0    0    0    0    0    0    0    0    0    0    0    0    0    0\n",
            "     0    0    0    0    0    0    0    0    0    0    0    0    0    0\n",
            "     0    0    0    0    0    0    0    0    0    0    0    0    0    0\n",
            "     0    0    0    0    0    0    0    0    0    0    0    0    0    0\n",
            "     0    0    0    0    0    0    0    0    0    0    0    0    0    0\n",
            "     0    0    0    0    0    0    0    0    0    0    0    0    0    0\n",
            "     0    0    0    0    0    0    0    0    0    0    0    0    0    0\n",
            "     0    0    0    0    0    0    0    0    0    0    0    0    0    0\n",
            "     0    0    0    0    0    0    0    0    0    0    0    0    0    0\n",
            "     0    0    0    0    0    0    0    0    0    0    0    0    0    0\n",
            "     0    0    0    0    0    0    0    0    0    0    0    0]]\n",
            "Length of vector: 600\n"
          ]
        }
      ]
    },
    {
      "cell_type": "code",
      "source": [
        "vocab = text_vectorizer.get_vocabulary()\n",
        "print(f'Number of words in the vocabulary: {len(vocab)}')\n",
        "print(f'Most common words in the vocabulary: {vocab[:5]}')\n",
        "print(f'Least common words in the vocabulary: {vocab[-5:]}')"
      ],
      "metadata": {
        "colab": {
          "base_uri": "https://localhost:8080/"
        },
        "id": "wXta1iTg4Hom",
        "outputId": "6db3a5b9-f13e-4342-a37c-3801c71ce8ad"
      },
      "execution_count": 21,
      "outputs": [
        {
          "output_type": "stream",
          "name": "stdout",
          "text": [
            "Number of words in the vocabulary: 8000\n",
            "Most common words in the vocabulary: ['', '[UNK]', 'senator', 'said', 'act']\n",
            "Least common words in the vocabulary: ['powerlines', 'powerhouse', 'possessing', 'posing', 'portrayal']\n"
          ]
        }
      ]
    },
    {
      "cell_type": "code",
      "source": [
        "text_vectorizer.get_config()"
      ],
      "metadata": {
        "colab": {
          "base_uri": "https://localhost:8080/"
        },
        "id": "0FPoRXhU4Kyw",
        "outputId": "41e8d350-fcf3-40a8-e288-38d8779511fa"
      },
      "execution_count": 22,
      "outputs": [
        {
          "output_type": "execute_result",
          "data": {
            "text/plain": [
              "{'name': 'text_vectorization',\n",
              " 'trainable': True,\n",
              " 'dtype': 'string',\n",
              " 'batch_input_shape': (None,),\n",
              " 'max_tokens': 8000,\n",
              " 'standardize': 'lower_and_strip_punctuation',\n",
              " 'split': 'whitespace',\n",
              " 'ngrams': None,\n",
              " 'output_mode': 'int',\n",
              " 'output_sequence_length': 600,\n",
              " 'pad_to_max_tokens': True,\n",
              " 'sparse': False,\n",
              " 'ragged': False,\n",
              " 'vocabulary': None,\n",
              " 'idf_weights': None,\n",
              " 'encoding': 'utf-8',\n",
              " 'vocabulary_size': 8000}"
            ]
          },
          "metadata": {},
          "execution_count": 22
        }
      ]
    },
    {
      "cell_type": "code",
      "source": [
        "token_embedding = tf.keras.layers.Embedding(input_dim=len(vocab),\n",
        "                                            output_dim=128,\n",
        "                                            mask_zero=True,\n",
        "                                            name='token_embedding')\n",
        "\n",
        "print(f'Sentence before vectorization: {example_sent}')\n",
        "vectorized_sent = text_vectorizer(example_sent)\n",
        "print(f'Sentence after vectorization: {vectorized_sent}')\n",
        "embedded_sent = token_embedding(vectorized_sent)\n",
        "print(f'Sentence after embedding: {embedded_sent}')"
      ],
      "metadata": {
        "colab": {
          "base_uri": "https://localhost:8080/"
        },
        "id": "nM9apZhx4NL2",
        "outputId": "ccbd944e-0588-49a7-c5ed-aa4758c17042"
      },
      "execution_count": 23,
      "outputs": [
        {
          "output_type": "stream",
          "name": "stdout",
          "text": [
            "Sentence before vectorization: washington congressman bob good introduced iran china accountability act prevent biden administration entering disastrous nuclear agreement iran bill block taxpayer dollar used advance nuclear agreement iran iran terminated cash tie china requires iran terminate tie terrorist group like hamas president biden effectively abandoned important friend ally middle east israel early day since hamas terrorist brutally attacked biden pressuring israel surrender said good meanwhile biden waived sanction iran releasing billion dollar iran china accountability act condemns terrorist attack mandate rigorous process potential nuclear agreement iran among provision bill good continued iran china seek america downfall legislation hold chinese communist party accountable ensure biden never failed nuclear agreement mary miller andy ogles barry moore clay higgins supporting group endowment middle east truth emet zionist organization america zoa west particularly united state israel entering particularly perilous historic period merger two greatest enemy islamic republic iran china nation harbor profound resentment antipathy value democracy represent making legislation critically important iran already recipient billion dollar u taxpayer fund jcpoa brutally massacred citizen courageously fought overthrow brutal theocracy also created network terrorist proxy throughout middle east china attempting purchase economic power throughout region important bill must passed agreement iran must go constitutional protection ratification u sarah stern founder president endowment middle east truth emet iran root cause problem middle east region making deal iran continue support islamist terrorist group including hamas hezbollah houthis calling destruction america israel intolerable obscenity foreign policy interest united state well moral integrity zoa applauds bob good leadership introducing house bill would prohibit expenditure u taxpayer fund advance nuclear agreement iran iran working enemy including arab terrorist responsible october atrocity china played extremely hostile roll entire middle east region agreement iran effect ratified treaty requirement constitution step forward legislation requires iran end support horrific terrorist group like hamas zoa praise good senator blackburn important effort morton klein national president zionist organization america zoa\n",
            "Sentence after vectorization: [   8   55  886  253  131  101  193  529    4  458   26   35 2915 4762\n",
            "  433  521  101   14 1512  341  301  280  487  433  521  101  101 4939\n",
            " 3306 1872  193  840  101 5551 1872  306  249   77  266   19   26 1076\n",
            " 1999   71  540  199  555  387   45 1156   85  127  266  306 4041 2559\n",
            "   26 6617   45 7623    3  253 3634   26 5483  466  101 3585  163  301\n",
            "  101  193  529    4 7189  306  133 1595 2998  159  510  433  521  101\n",
            "  662  714   14  253  302  101  193  809   76    1   20  287  640  986\n",
            "  676  480   48   26  421  911  433  521 1452 2029 2675 4604 3500  754\n",
            " 4811 5919  464  249 6007  555  387 1631    1 5455  241   76 5454  475\n",
            "  553   46    5   45 2915  553    1  594 1039    1  180 1210 2132 2500\n",
            " 1747  101  193   78 3057 2723 7867    1  682  519 1274  353   20 2651\n",
            "   71  101  356 1356  163  301   59  341  111    1 4041    1  461    1\n",
            " 1497    1 2665    1   21  930  489  306 1588  332  555  387  193 2809\n",
            "  959  154  284  332  297   71   14   54  221  521  101   54  246 1027\n",
            "  175    1   59 5633    1 2513   19 6007  555  387 1631    1  101 1585\n",
            "  730  402  555  387  297  353  882  101   82   15    1  306  249   67\n",
            "  266 2386 3443  527 2922   76   45    1    1  169   63  338   46    5\n",
            "  178 2112 2626 5454 2233  886  253  135  755    9   14    7 2599 5268\n",
            "   59  341  111  487  433  521  101  101  118 2132   67 2673  306  690\n",
            "  366 3503  193 1591 1837 6909 7824  845  555  387  297  521  101  865\n",
            " 7934 3800  624 1261  179  132   20  840  101  257   15 1097  306  249\n",
            "   77  266 5454 5065  253    2 1385   71   65    1    1   13   19 5455\n",
            "  241   76 5454    0    0    0    0    0    0    0    0    0    0    0\n",
            "    0    0    0    0    0    0    0    0    0    0    0    0    0    0\n",
            "    0    0    0    0    0    0    0    0    0    0    0    0    0    0\n",
            "    0    0    0    0    0    0    0    0    0    0    0    0    0    0\n",
            "    0    0    0    0    0    0    0    0    0    0    0    0    0    0\n",
            "    0    0    0    0    0    0    0    0    0    0    0    0    0    0\n",
            "    0    0    0    0    0    0    0    0    0    0    0    0    0    0\n",
            "    0    0    0    0    0    0    0    0    0    0    0    0    0    0\n",
            "    0    0    0    0    0    0    0    0    0    0    0    0    0    0\n",
            "    0    0    0    0    0    0    0    0    0    0    0    0    0    0\n",
            "    0    0    0    0    0    0    0    0    0    0    0    0    0    0\n",
            "    0    0    0    0    0    0    0    0    0    0    0    0    0    0\n",
            "    0    0    0    0    0    0    0    0    0    0    0    0    0    0\n",
            "    0    0    0    0    0    0    0    0    0    0    0    0    0    0\n",
            "    0    0    0    0    0    0    0    0    0    0    0    0    0    0\n",
            "    0    0    0    0    0    0    0    0    0    0    0    0    0    0\n",
            "    0    0    0    0    0    0    0    0    0    0    0    0    0    0\n",
            "    0    0    0    0    0    0    0    0    0    0    0    0    0    0\n",
            "    0    0    0    0    0    0    0    0    0    0    0    0    0    0\n",
            "    0    0    0    0    0    0    0    0    0    0    0    0    0    0\n",
            "    0    0    0    0    0    0    0    0    0    0    0    0]\n",
            "Sentence after embedding: [[-0.01635141  0.01092435  0.01913016 ... -0.04082334  0.0046255\n",
            "   0.04734993]\n",
            " [ 0.01135089 -0.01022048 -0.03498801 ... -0.03895085 -0.02186441\n",
            "   0.00784924]\n",
            " [-0.02622339  0.04036647 -0.02416269 ... -0.04094309  0.00381336\n",
            "  -0.02471294]\n",
            " ...\n",
            " [ 0.03153601 -0.02110114  0.04485831 ...  0.02140644 -0.00960808\n",
            "   0.04352236]\n",
            " [ 0.03153601 -0.02110114  0.04485831 ...  0.02140644 -0.00960808\n",
            "   0.04352236]\n",
            " [ 0.03153601 -0.02110114  0.04485831 ...  0.02140644 -0.00960808\n",
            "   0.04352236]]\n"
          ]
        }
      ]
    },
    {
      "cell_type": "code",
      "source": [
        "X_dataset = tf.data.Dataset.from_tensor_slices((X_train.values, y_train_ohe))\n",
        "val_dataset = tf.data.Dataset.from_tensor_slices((x_val.values, y_val_ohe))"
      ],
      "metadata": {
        "id": "3tazFSfz4PpT"
      },
      "execution_count": 24,
      "outputs": []
    },
    {
      "cell_type": "code",
      "source": [
        "\n",
        "BATCH_SIZE = 15"
      ],
      "metadata": {
        "id": "fCCT3GNO4SQn"
      },
      "execution_count": 25,
      "outputs": []
    },
    {
      "cell_type": "code",
      "source": [
        "train_dataset = X_dataset.batch(BATCH_SIZE).prefetch(tf.data.AUTOTUNE)\n",
        "val_dataset = val_dataset.batch(BATCH_SIZE).prefetch(tf.data.AUTOTUNE)"
      ],
      "metadata": {
        "id": "GXmwpZuk4TSo"
      },
      "execution_count": 26,
      "outputs": []
    },
    {
      "cell_type": "code",
      "source": [
        "# MODEL Hyperparameters\n",
        "learning_rate = 0.0001\n",
        "optimizer = tf.keras.optimizers.legacy.Adam(learning_rate=learning_rate)\n",
        "loss = 'categorical_crossentropy'\n",
        "epochs = 14"
      ],
      "metadata": {
        "id": "iH_CLXMM4UxL"
      },
      "execution_count": 30,
      "outputs": []
    },
    {
      "cell_type": "code",
      "source": [
        "# Model architecture\n",
        "\n",
        "from tensorflow.keras import layers, regularizers\n",
        "\n",
        "inputs = tf.keras.layers.Input(shape=(1,), dtype=tf.string)\n",
        "x = text_vectorizer(inputs)\n",
        "\n",
        "x = token_embedding(x)\n",
        "x = tf.keras.layers.Flatten()(x)\n",
        "\n",
        "\n",
        "outputs = layers.Dense(num_classes, activation='softmax')(x)\n",
        "\n",
        "model = tf.keras.Model(inputs, outputs)\n",
        "\n",
        "model.compile(loss=loss, optimizer=optimizer, metrics=['accuracy'])"
      ],
      "metadata": {
        "id": "EouYZIOP4Xhr"
      },
      "execution_count": 31,
      "outputs": []
    },
    {
      "cell_type": "code",
      "source": [
        "history = model.fit(train_dataset, epochs=epochs, validation_data=val_dataset)"
      ],
      "metadata": {
        "colab": {
          "base_uri": "https://localhost:8080/"
        },
        "id": "pbgXsVhk4acv",
        "outputId": "fd3b90ac-003e-475b-e9be-0a3d2215e9b4"
      },
      "execution_count": 32,
      "outputs": [
        {
          "output_type": "stream",
          "name": "stdout",
          "text": [
            "Epoch 1/14\n",
            "53/53 [==============================] - 3s 41ms/step - loss: 0.6751 - accuracy: 0.5761 - val_loss: 0.6784 - val_accuracy: 0.5584\n",
            "Epoch 2/14\n",
            "53/53 [==============================] - 3s 56ms/step - loss: 0.5861 - accuracy: 0.8096 - val_loss: 0.6599 - val_accuracy: 0.5635\n",
            "Epoch 3/14\n",
            "53/53 [==============================] - 2s 45ms/step - loss: 0.5155 - accuracy: 0.9277 - val_loss: 0.6392 - val_accuracy: 0.6599\n",
            "Epoch 4/14\n",
            "53/53 [==============================] - 2s 40ms/step - loss: 0.4497 - accuracy: 0.9556 - val_loss: 0.6167 - val_accuracy: 0.7056\n",
            "Epoch 5/14\n",
            "53/53 [==============================] - 2s 38ms/step - loss: 0.3887 - accuracy: 0.9746 - val_loss: 0.5929 - val_accuracy: 0.7259\n",
            "Epoch 6/14\n",
            "53/53 [==============================] - 3s 49ms/step - loss: 0.3335 - accuracy: 0.9784 - val_loss: 0.5688 - val_accuracy: 0.7614\n",
            "Epoch 7/14\n",
            "53/53 [==============================] - 3s 51ms/step - loss: 0.2850 - accuracy: 0.9822 - val_loss: 0.5452 - val_accuracy: 0.7868\n",
            "Epoch 8/14\n",
            "53/53 [==============================] - 2s 38ms/step - loss: 0.2432 - accuracy: 0.9848 - val_loss: 0.5227 - val_accuracy: 0.8122\n",
            "Epoch 9/14\n",
            "53/53 [==============================] - 2s 36ms/step - loss: 0.2081 - accuracy: 0.9848 - val_loss: 0.5018 - val_accuracy: 0.8376\n",
            "Epoch 10/14\n",
            "53/53 [==============================] - 1s 22ms/step - loss: 0.1788 - accuracy: 0.9860 - val_loss: 0.4826 - val_accuracy: 0.8477\n",
            "Epoch 11/14\n",
            "53/53 [==============================] - 1s 23ms/step - loss: 0.1546 - accuracy: 0.9860 - val_loss: 0.4651 - val_accuracy: 0.8680\n",
            "Epoch 12/14\n",
            "53/53 [==============================] - 1s 22ms/step - loss: 0.1346 - accuracy: 0.9860 - val_loss: 0.4494 - val_accuracy: 0.8782\n",
            "Epoch 13/14\n",
            "53/53 [==============================] - 1s 25ms/step - loss: 0.1182 - accuracy: 0.9860 - val_loss: 0.4353 - val_accuracy: 0.8731\n",
            "Epoch 14/14\n",
            "53/53 [==============================] - 2s 34ms/step - loss: 0.1045 - accuracy: 0.9860 - val_loss: 0.4228 - val_accuracy: 0.8629\n"
          ]
        }
      ]
    },
    {
      "cell_type": "code",
      "source": [
        "import matplotlib.pyplot as plt\n",
        "\n",
        "def plot_history(history):\n",
        "    acc = history.history['accuracy']\n",
        "    val_acc = history.history['val_accuracy']\n",
        "    loss = history.history['loss']\n",
        "    val_loss = history.history['val_loss']\n",
        "\n",
        "    plt.figure(figsize=(12, 6))\n",
        "    plt.subplot(1, 2, 1)\n",
        "    plt.plot(acc, label='Training Accuracy')\n",
        "    plt.plot(val_acc, label='Validation Accuracy')\n",
        "    plt.legend()\n",
        "    plt.title('Training and Validation Accuracy')\n",
        "\n",
        "    plt.subplot(1, 2, 2)\n",
        "    plt.plot(loss, label='Training Loss')\n",
        "    plt.plot(val_loss, label='Validation Loss')\n",
        "    plt.legend()\n",
        "    plt.title('Training and Validation Loss')\n",
        "\n",
        "    plt.show()"
      ],
      "metadata": {
        "id": "Sg2Jy1RQ4csQ"
      },
      "execution_count": 39,
      "outputs": []
    },
    {
      "cell_type": "code",
      "source": [
        "plot_history(history)"
      ],
      "metadata": {
        "colab": {
          "base_uri": "https://localhost:8080/",
          "height": 545
        },
        "id": "twhWeDdL40M6",
        "outputId": "ff2226a4-6363-4f17-9704-665e13c43dab"
      },
      "execution_count": 40,
      "outputs": [
        {
          "output_type": "display_data",
          "data": {
            "text/plain": [
              "<Figure size 1200x600 with 2 Axes>"
            ],
            "image/png": "[encoded data removed]"
          },
          "metadata": {}
        }
      ]
    }
  ]
}